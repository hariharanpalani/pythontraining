{
 "cells": [
  {
   "cell_type": "markdown",
   "metadata": {},
   "source": [
    "<B>FILES</B>"
   ]
  },
  {
   "cell_type": "code",
   "execution_count": 26,
   "metadata": {},
   "outputs": [],
   "source": [
    "# print working directory"
   ]
  },
  {
   "cell_type": "code",
   "execution_count": 27,
   "metadata": {},
   "outputs": [
    {
     "data": {
      "text/plain": [
       "'C:\\\\Users\\\\Hari\\\\Documents\\\\pythontraining'"
      ]
     },
     "execution_count": 27,
     "metadata": {},
     "output_type": "execute_result"
    }
   ],
   "source": [
    "pwd()"
   ]
  },
  {
   "cell_type": "code",
   "execution_count": 15,
   "metadata": {},
   "outputs": [],
   "source": [
    "f = open('note.txt')"
   ]
  },
  {
   "cell_type": "code",
   "execution_count": 16,
   "metadata": {},
   "outputs": [
    {
     "data": {
      "text/plain": [
       "'please forward this meeting request if i missed anyone.\\n\\n1. Blog where we share updates regarding updates on both .NET Platform and UI Platform.(https://collab.namecheap.net/pages/viewrecentblogposts.action?key=NPNF)\\n2. Documentation for Layout Composer - our component for composing HTML pages for new sites. (https://collab.namecheap.net/display/NPNF/Layout+Composer)\\n3. Routing scheme for NGINX (https://collab.namecheap.net/display/NPNF/NGINX+Routing+Scheme)\\n4. Home for UI platform - there we gather documentation related to building front-end based on Angular framework. Home page also contains useful links about the technology stack we currently use for building frontend. (https://collab.namecheap.net/display/NPNF/NC+Platform%3A+UI)\\n5. Sample UI application which could be used as starting point for new UI fragments. (https://git.namecheap.net/projects/NCPL/repos/nc.ui.typicalapp/browse/README.md)\\n6. Documentation for UI library for standard components. NOTE: there is a link to bsbx115 just for the reference, but this documentation is available on every branchsandbox which is prepared for new UI. The branchsandbox of the team which owns library is bsbx119. (https://phx01bsbx115.sb.corp.namecheap.net/internal/uiwiki)\\n\\nDIY Alkaline Water Recipe\\nYou will need:\\n1 tablespoon of Himalayan salt\\n2l of purified water\\n1 large glass jar\\n1 organic lemon\\nInstructions:\\nWash the lemon and cut it in slices. Pour the water into the jar, and add the unpeeled lemon. Then, add the Himalayan salt, cover, and leave it at room temperature for up to 24 hours.\\nUse:\\nDrink 3 glasses of the alkaline water before your breakfast. You can drink the rest during the day.'"
      ]
     },
     "execution_count": 16,
     "metadata": {},
     "output_type": "execute_result"
    }
   ],
   "source": [
    "f.read()"
   ]
  },
  {
   "cell_type": "code",
   "execution_count": 17,
   "metadata": {},
   "outputs": [
    {
     "data": {
      "text/plain": [
       "''"
      ]
     },
     "execution_count": 17,
     "metadata": {},
     "output_type": "execute_result"
    }
   ],
   "source": [
    "# read emits empty as the cursor moved to last character\n",
    "f.read()"
   ]
  },
  {
   "cell_type": "code",
   "execution_count": 20,
   "metadata": {},
   "outputs": [
    {
     "data": {
      "text/plain": [
       "0"
      ]
     },
     "execution_count": 20,
     "metadata": {},
     "output_type": "execute_result"
    }
   ],
   "source": [
    "f.seek(0)"
   ]
  },
  {
   "cell_type": "code",
   "execution_count": 19,
   "metadata": {},
   "outputs": [
    {
     "data": {
      "text/plain": [
       "'please forward this meeting request if i missed anyone.\\n\\n1. Blog where we share updates regarding updates on both .NET Platform and UI Platform.(https://collab.namecheap.net/pages/viewrecentblogposts.action?key=NPNF)\\n2. Documentation for Layout Composer - our component for composing HTML pages for new sites. (https://collab.namecheap.net/display/NPNF/Layout+Composer)\\n3. Routing scheme for NGINX (https://collab.namecheap.net/display/NPNF/NGINX+Routing+Scheme)\\n4. Home for UI platform - there we gather documentation related to building front-end based on Angular framework. Home page also contains useful links about the technology stack we currently use for building frontend. (https://collab.namecheap.net/display/NPNF/NC+Platform%3A+UI)\\n5. Sample UI application which could be used as starting point for new UI fragments. (https://git.namecheap.net/projects/NCPL/repos/nc.ui.typicalapp/browse/README.md)\\n6. Documentation for UI library for standard components. NOTE: there is a link to bsbx115 just for the reference, but this documentation is available on every branchsandbox which is prepared for new UI. The branchsandbox of the team which owns library is bsbx119. (https://phx01bsbx115.sb.corp.namecheap.net/internal/uiwiki)\\n\\nDIY Alkaline Water Recipe\\nYou will need:\\n1 tablespoon of Himalayan salt\\n2l of purified water\\n1 large glass jar\\n1 organic lemon\\nInstructions:\\nWash the lemon and cut it in slices. Pour the water into the jar, and add the unpeeled lemon. Then, add the Himalayan salt, cover, and leave it at room temperature for up to 24 hours.\\nUse:\\nDrink 3 glasses of the alkaline water before your breakfast. You can drink the rest during the day.'"
      ]
     },
     "execution_count": 19,
     "metadata": {},
     "output_type": "execute_result"
    }
   ],
   "source": [
    "f.read()"
   ]
  },
  {
   "cell_type": "code",
   "execution_count": 21,
   "metadata": {},
   "outputs": [
    {
     "data": {
      "text/plain": [
       "['please forward this meeting request if i missed anyone.\\n',\n",
       " '\\n',\n",
       " '1. Blog where we share updates regarding updates on both .NET Platform and UI Platform.(https://collab.namecheap.net/pages/viewrecentblogposts.action?key=NPNF)\\n',\n",
       " '2. Documentation for Layout Composer - our component for composing HTML pages for new sites. (https://collab.namecheap.net/display/NPNF/Layout+Composer)\\n',\n",
       " '3. Routing scheme for NGINX (https://collab.namecheap.net/display/NPNF/NGINX+Routing+Scheme)\\n',\n",
       " '4. Home for UI platform - there we gather documentation related to building front-end based on Angular framework. Home page also contains useful links about the technology stack we currently use for building frontend. (https://collab.namecheap.net/display/NPNF/NC+Platform%3A+UI)\\n',\n",
       " '5. Sample UI application which could be used as starting point for new UI fragments. (https://git.namecheap.net/projects/NCPL/repos/nc.ui.typicalapp/browse/README.md)\\n',\n",
       " '6. Documentation for UI library for standard components. NOTE: there is a link to bsbx115 just for the reference, but this documentation is available on every branchsandbox which is prepared for new UI. The branchsandbox of the team which owns library is bsbx119. (https://phx01bsbx115.sb.corp.namecheap.net/internal/uiwiki)\\n',\n",
       " '\\n',\n",
       " 'DIY Alkaline Water Recipe\\n',\n",
       " 'You will need:\\n',\n",
       " '1 tablespoon of Himalayan salt\\n',\n",
       " '2l of purified water\\n',\n",
       " '1 large glass jar\\n',\n",
       " '1 organic lemon\\n',\n",
       " 'Instructions:\\n',\n",
       " 'Wash the lemon and cut it in slices. Pour the water into the jar, and add the unpeeled lemon. Then, add the Himalayan salt, cover, and leave it at room temperature for up to 24 hours.\\n',\n",
       " 'Use:\\n',\n",
       " 'Drink 3 glasses of the alkaline water before your breakfast. You can drink the rest during the day.']"
      ]
     },
     "execution_count": 21,
     "metadata": {},
     "output_type": "execute_result"
    }
   ],
   "source": [
    "f.seek(0)\n",
    "f.readlines()"
   ]
  },
  {
   "cell_type": "code",
   "execution_count": 33,
   "metadata": {},
   "outputs": [],
   "source": [
    "# magic key to write files\n",
    "# %%writefile new.txt\n",
    "new = open('new.txt', 'w')\n",
    "new.write('First line')\n",
    "new.write('Second line')\n",
    "new.close()"
   ]
  },
  {
   "cell_type": "code",
   "execution_count": 34,
   "metadata": {},
   "outputs": [
    {
     "name": "stdout",
     "output_type": "stream",
     "text": [
      "First lineSecond line\n"
     ]
    }
   ],
   "source": [
    "for line in open('new.txt'):\n",
    "    print(line)"
   ]
  },
  {
   "cell_type": "code",
   "execution_count": null,
   "metadata": {
    "collapsed": true
   },
   "outputs": [],
   "source": []
  }
 ],
 "metadata": {
  "kernelspec": {
   "display_name": "Python 3",
   "language": "python",
   "name": "python3"
  },
  "language_info": {
   "codemirror_mode": {
    "name": "ipython",
    "version": 3
   },
   "file_extension": ".py",
   "mimetype": "text/x-python",
   "name": "python",
   "nbconvert_exporter": "python",
   "pygments_lexer": "ipython3",
   "version": "3.6.1"
  }
 },
 "nbformat": 4,
 "nbformat_minor": 2
}
